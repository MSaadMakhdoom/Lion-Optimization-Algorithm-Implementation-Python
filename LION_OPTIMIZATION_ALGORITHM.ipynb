{
 "cells": [
  {
   "cell_type": "code",
   "execution_count": 1,
   "metadata": {},
   "outputs": [],
   "source": [
    "import numpy as np\n",
    "from matplotlib import pyplot as plt\n",
    "import random\n",
    "import copy\n",
    "import scipy.spatial.distance as sci\n",
    "import sys, time\n",
    "import seaborn as sns\n",
    "from random import randrange\n",
    "import pandas as pd"
   ]
  },
  {
   "cell_type": "code",
   "execution_count": 2,
   "metadata": {},
   "outputs": [],
   "source": [
    "def HC(x):\n",
    "    sum = 0.0\n",
    "    for i in range(1, len(x) + 1):\n",
    "        sum += ((10 ** 6) ** ((i - 1) / (len(x) - 1))) * x[i - 1] ** 2\n",
    "    return sum\n",
    "\n",
    "def SHC(x, o):\n",
    "    F_1 = 100\n",
    "    return HC((x - o).T) + F_1"
   ]
  },
  {
   "cell_type": "code",
   "execution_count": 3,
   "metadata": {},
   "outputs": [],
   "source": [
    "#FUNCTIONS AND THEIR DEFINATIONS i.e.(STEPS)\n",
    "def GENERATE_GROUPS(n_population, sex_rate, pride_num, nomad_percentage, UPPER_LIMIT, LOWER_LIMIT, dimensions, eval, o): \n",
    "\n",
    "    nomad_population = int(round(n_population * nomad_percentage, 0)) \n",
    "    pride_population = n_population - nomad_population                    \n",
    "\n",
    "    male_nomad_indices = []\n",
    "    for i in range (nomad_population):\n",
    "        male_nomad_indices.append(0)\n",
    "    male_nomad_indices = np.asarray(male_nomad_indices)\n",
    "\n",
    "    male_pride_indices = []\n",
    "    for i in range (pride_population):\n",
    "        male_pride_indices.append(0)\n",
    "    male_pride_indices = np.asarray(male_pride_indices)\n",
    "\n",
    "    X = pride_population * (1 - sex_rate)\n",
    "    Y = nomad_population * sex_rate\n",
    "\n",
    "    PrideMalesNum = int(round(X, 0))\n",
    "    NomadMalesNum = int(round(Y, 0))\n",
    "\n",
    "    for i in range(PrideMalesNum):\n",
    "        male_pride_indices[i] = 1\n",
    "    random.shuffle(male_pride_indices)\n",
    "\n",
    "    for i in range(NomadMalesNum):\n",
    "        male_nomad_indices[i] = 1\n",
    "    random.shuffle(male_nomad_indices)\n",
    "  \n",
    "    NomadLionsArr = []\n",
    "    PrideLionsArr = []\n",
    "\n",
    "    for i in range(nomad_population):\n",
    "        NomadLionsArr.append(Lion())\n",
    "    NomadLionsArr = np.asarray(NomadLionsArr)\n",
    "\n",
    "    for i in range(pride_population):\n",
    "        PrideLionsArr.append(Lion())\n",
    "    PrideLionsArr = np.asarray(PrideLionsArr)\n",
    "\n",
    "\n",
    "    for i in range(nomad_population):\n",
    "        NomadLionsArr[i].evaluation = eval\n",
    "        NomadLionsArr[i].isMature = True\n",
    "        NomadLionsArr[i].o = o\n",
    "        NomadLionsArr[i].isNomad = True\n",
    "\n",
    "        # SETTING THE SEX \n",
    "        if male_nomad_indices[i] == 1:\n",
    "            NomadLionsArr[i].isMale = True\n",
    "        else:\n",
    "            NomadLionsArr[i].isMale = False\n",
    "\n",
    "        # INITILIZATION OF LIONS POSITIONS i.e. X & bestVisitedPosition\n",
    "        NOMAD_POSITION = np.random.uniform(LOWER_LIMIT, UPPER_LIMIT, (1, dimensions))\n",
    "        NomadLionsArr[i].x = NomadLionsArr[i].bestVisitedPosition = NOMAD_POSITION\n",
    "\n",
    "    # AS THERE ARE CERTIAN NUMBER OF PRIDES SO MAKING PRIDES OBJECT WHICH WILL HOLD PRIDE LION's PRIDE INFORMATION\n",
    "    prideArray = []\n",
    "    for i in range(pride_num):\n",
    "        prideArray.append(Group())\n",
    "    prideArray = np.asarray(prideArray)\n",
    "\n",
    "    j = 0\n",
    "    for i in range(pride_population):\n",
    "\n",
    "        PrideLionsArr[i].isNomad = False\n",
    "        PrideLionsArr[i].evaluation = eval\n",
    "        PrideLionsArr[i].o = o\n",
    "        PrideLionsArr[i].isMature = True\n",
    "\n",
    "        # SETTING THE SEX \n",
    "        if male_pride_indices[i] > 0:\n",
    "            if male_pride_indices[i] < 2:\n",
    "                PrideLionsArr[i].isMale = True\n",
    "\n",
    "            # IF THE CURRENT LION IS MALE THEN CHECK TO STORE @ LION IN EACH PRIDE\n",
    "            p_num = 2 * pride_num\n",
    "            if j in range(p_num):\n",
    "                prideIndex = j % 4\n",
    "                j += 1\n",
    "        else:\n",
    "            PrideLionsArr[i].isMale = False\n",
    "\n",
    "        # INITILIZATION OF LIONS POSITIONS i.e. X & bestVisitedPosition\n",
    "        PRIDE_POSITION = np.random.uniform(LOWER_LIMIT, UPPER_LIMIT, (1, dimensions))\n",
    "        PrideLionsArr[i].x = PrideLionsArr[i].bestVisitedPosition = PRIDE_POSITION\n",
    "\n",
    "        if j not in range(2 * pride_num) or male_pride_indices[i] != 1:\n",
    "            prideIndex = np.random.randint(0, pride_num)\n",
    "        prideArray[prideIndex].lionArray = np.append(prideArray[prideIndex].lionArray, PrideLionsArr[i])\n",
    "\n",
    "    #NOW RETURNING THE PRIDE AND NOMAND ARRAYS \n",
    "    return prideArray, NomadLionsArr"
   ]
  },
  {
   "cell_type": "code",
   "execution_count": 4,
   "metadata": {},
   "outputs": [],
   "source": [
    "def HUNTING(prideArr, UPPER_LIMIT, LOWER_LIMIT):\n",
    "    for pride in prideArr:\n",
    "        # THE BELOW LOOP IS USED TO ASSIGN A LION TO A HUNTING GROUP\n",
    "        for lion in pride.lionArray:\n",
    "\n",
    "            if lion.isMale == False:\n",
    "                lion.huntingGroup = randrange(0, 4)\n",
    "            elif lion.isMale == True:\n",
    "                lion.huntingGroup = 0\n",
    "\n",
    "        fitness_of_huntingGroup1 = 0\n",
    "        fitness_of_huntingGroup2 = 0\n",
    "        fitness_of_huntingGroup3 = 0\n",
    "#1\n",
    "        for lion in pride.lionArray:\n",
    "            if lion.huntingGroup == 1:\n",
    "                fitness_of_huntingGroup1 += lion.getCurrentPositionScore()\n",
    "#2\n",
    "        for lion in pride.lionArray:\n",
    "            if lion.huntingGroup == 2:\n",
    "                fitness_of_huntingGroup2 += lion.getCurrentPositionScore()\n",
    "#3\n",
    "        for lion in pride.lionArray:\n",
    "            if lion.huntingGroup == 3:\n",
    "                fitness_of_huntingGroup3 += lion.getCurrentPositionScore()\n",
    "\n",
    "\n",
    "        FITNESS_VALS = [fitness_of_huntingGroup1, fitness_of_huntingGroup2, fitness_of_huntingGroup3]\n",
    "        FITNESS_VALS.sort()\n",
    "\n",
    "        # SORTING THE HUNTING GROUPS BASED ON THEIR FITNESS \n",
    "        centre = FITNESS_VALS[-1]\n",
    "        right = FITNESS_VALS[-2]\n",
    "        left = FITNESS_VALS[-3]\n",
    "#         print(f\"HUNTING C>R,L {centre} , {right} , {left}\")\n",
    "    return prideArr"
   ]
  },
  {
   "cell_type": "code",
   "execution_count": 5,
   "metadata": {},
   "outputs": [],
   "source": [
    "def move_to_safety(prideArr, UPPER_LIMIT, LOWER_LIMIT, dimensions):\n",
    "    #TODO:\n",
    "    return prideArr"
   ]
  },
  {
   "cell_type": "code",
   "execution_count": 6,
   "metadata": {},
   "outputs": [],
   "source": [
    "def lionsRoam(prideArr, NomadLionsArr, roaming_percentage, UPPER_LIMIT, LOWER_LIMIT, dimesions):\n",
    "\n",
    "    for pride in prideArr:\n",
    "        for lion in pride.lionArray:\n",
    "            if lion.isMale != False:\n",
    "\n",
    "                BVP = lion.bestVisitedPosition\n",
    "                BVPS = lion.getBestVisitedPositionScore()\n",
    "                CPS = lion.getCurrentPositionScore()\n",
    "\n",
    "                territory = [(BVP, BVPS) for lion in pride.lionArray]\n",
    "\n",
    "                # NOW FROM TERITORY SELECTING THE ROAMING PERCENT OF TERITORY\n",
    "\n",
    "                territory_roaming_percentage = int(round(len(territory) * roaming_percentage))\n",
    "                selected = random.sample(territory, territory_roaming_percentage)\n",
    "\n",
    "                for place in selected:\n",
    "                    neg_angle = -np.pi/6\n",
    "                    pos_angle = np.pi/6\n",
    "\n",
    "                    angle = np.random.uniform(neg_angle, pos_angle)\n",
    "\n",
    "                    distance = 1\n",
    "            \n",
    "                    step = np.random.uniform(0, 0.2)\n",
    "\n",
    "                    tan_angle = np.tan(angle)\n",
    "                    position = place[0] - lion.x\n",
    "                    l_position = step * position * tan_angle\n",
    "\n",
    "                    lion.x += l_position\n",
    "\n",
    "                    if CPS < BVPS:\n",
    "                        lion.bestVisitedPosition = lion.x\n",
    "\n",
    "    return prideArr, NomadLionsArr"
   ]
  },
  {
   "cell_type": "code",
   "execution_count": 7,
   "metadata": {},
   "outputs": [],
   "source": [
    "def lionsMating(prideArr, NomadLionsArr, mating_prob, mutation_prob, LOWER_LIMIT, UPPER_LIMIT, o): #RENAME TO MATING\n",
    "    for pride in prideArr:\n",
    "        for lion in pride.lionArray:\n",
    "            ar_no = np.random.random_sample()\n",
    "            males = []\n",
    "            if (lion.isMale == False) and (ar_no < mating_prob):\n",
    "                for lion in pride.lionArray:\n",
    "                    if lion.isMale != False:\n",
    "                        males.append(lion)\n",
    "                \n",
    "                if (len(males) == 0):\n",
    "                    numberMates = 0\n",
    "                elif (len(males) >0 and len(males) <2):\n",
    "                    numberMates = randrange(1, 2)\n",
    "                else:\n",
    "                    numberMates = randrange(1, 3)\n",
    "\n",
    "                MALE_MATES = np.random.choice(males, numberMates)\n",
    "                selcted_maless = np.array([m.x for m in MALE_MATES])\n",
    "                                \n",
    "                cub_1, cub_2 = matingOperator(lion.x, selcted_maless, mutation_prob, LOWER_LIMIT, UPPER_LIMIT)\n",
    "            \n",
    "                cub_1.isNomad = False\n",
    "                cub_2.isNomad = False\n",
    "                cub_1.isMature = True\n",
    "                cub_2.isMature = True\n",
    "                cub_1.evaluation = lion.evaluation\n",
    "                cub_2.evaluation = lion.evaluation\n",
    "                cub_1.o = o\n",
    "                cub_2.o = o\n",
    "\n",
    "\n",
    "                pride.lionArray = np.append(pride.lionArray, cub_1)\n",
    "                pride.lionArray = np.append(pride.lionArray, cub_2)\n",
    "    #Mating in case of nomad lions            \n",
    "    for lion in NomadLionsArr:\n",
    "        ar_no1 = np.random.random_sample()\n",
    "        males1 = [] \n",
    "        if (lion.isMale == False) and (ar_no1 < mating_prob):            \n",
    "            for lion in NomadLionsArr:\n",
    "                if lion.isMale != False:\n",
    "                    males.append(lion)\n",
    "            maleMate = random.sample(males,1)[0]\n",
    "            ssMales = np.array([maleMate.x])\n",
    "\n",
    "            cub_1, cub_2 = matingOperator(lion.x, ssMales, mutation_prob, LOWER_LIMIT, UPPER_LIMIT)\n",
    "            \n",
    "            cub_1.evaluation = lion.evaluation\n",
    "            cub_2.evaluation = lion.evaluation\n",
    "            cub_1.isMature = True\n",
    "            cub_2.isMature = True\n",
    "            cub_1.o = o\n",
    "            cub_2.o = o\n",
    "            cub_1.isNomad = True\n",
    "            cub_2.isNomad = True\n",
    "\n",
    "            NomadLionsArr = np.append(NomadLionsArr, cub_1)\n",
    "            NomadLionsArr = np.append(NomadLionsArr, cub_2)\n",
    "\n",
    "    return prideArr, NomadLionsArr"
   ]
  },
  {
   "cell_type": "code",
   "execution_count": 8,
   "metadata": {},
   "outputs": [],
   "source": [
    "def matingOperator(female_pos, males_array, mutation_prob, LOWER_LIMIT, UPPER_LIMIT):\n",
    "\n",
    "    beta = np.random.normal(0.5, 0.1)\n",
    "    maleNo = len(males_array)\n",
    "\n",
    "    malePositionSum = []\n",
    "    for i in range (len(female_pos)):\n",
    "        malePositionSum.append(0)\n",
    "    malePositionSum = np.asarray(malePositionSum)\n",
    "    \n",
    "    \n",
    "    for malePos in males_array:\n",
    "        malePositionSum = np.add(malePositionSum, malePos)\n",
    "\n",
    "    malePositionAve = malePositionSum / maleNo\n",
    "\n",
    "    ff1 = female_pos * beta\n",
    "    mm1 = malePositionAve * (1 - beta) \n",
    "    ff2 = (1 - beta) * female_pos\n",
    "    mm2 = malePositionAve * beta\n",
    "    offspringVec1 = (ff1) + (mm1)\n",
    "    offspringVec2 = (ff1) + (mm2)\n",
    "\n",
    "    for basis in range(len(offspringVec1)):\n",
    "        ar_no11 = np.random.random_sample()\n",
    "        ar_no22 = np.random.random_sample()\n",
    "\n",
    "        if ar_no11 < mutation_prob:\n",
    "            offspringVec1[basis] = ((UPPER_LIMIT - LOWER_LIMIT) * np.random.random_sample() + LOWER_LIMIT)\n",
    "        if ar_no22 < mutation_prob:\n",
    "            offspringVec2[basis] = ((UPPER_LIMIT - LOWER_LIMIT) * np.random.random_sample() + LOWER_LIMIT)\n",
    "\n",
    "    cub_1 = Lion()\n",
    "    cub_1.x = offspringVec1\n",
    "    cub_1.isMale = (beta >= 0.5)\n",
    "    cub_1.bestVisitedPosition = offspringVec1\n",
    "    cub_1.isMature = False\n",
    "\n",
    "    cub_2 = Lion()\n",
    "    cub_2.x = offspringVec2\n",
    "    cub_2.isMale = not(cub_1.isMale) \n",
    "    cub_2.bestVisitedPosition = offspringVec2\n",
    "    cub_2.isMature = False\n",
    "\n",
    "\n",
    "    return cub_1, cub_2"
   ]
  },
  {
   "cell_type": "code",
   "execution_count": 9,
   "metadata": {},
   "outputs": [],
   "source": [
    "def MIGRATE_FEMALE_FROM_PRIDE(prideArr, NomadLionArr, migration_rate, sex_rate, n_population, pride_number, nomad_percentage):\n",
    "\n",
    "    # MAXIMUM NUMBER OF FEMALES CAN BE\n",
    "    a = 1 / pride_number\n",
    "    b = sex_rate * a\n",
    "    c = (1 - nomad_percentage) * b\n",
    "    d = n_population * c\n",
    "    maxFemaleNo = np.ceil(d)\n",
    "\n",
    "    return prideArr, NomadLionArr"
   ]
  },
  {
   "cell_type": "code",
   "execution_count": 10,
   "metadata": {},
   "outputs": [],
   "source": [
    "def lionsAttackDefense(prideArray, nomadLionsArray, sexRate, nPop, percentNomad, prideNo):\n",
    "    maxMalePrideNo = 2 # because there is a check that atlest 2 lions should be ina pride\n",
    "    for pride in prideArray:\n",
    "        prideFemales=[]\n",
    "        newlyGenNomads = []\n",
    "        prideMales=[]\n",
    "        for lion in pride.lionArray:\n",
    "            if lion.isMale == False:\n",
    "                prideFemales.append(lion)\n",
    "\n",
    "        for lion in pride.lionArray:\n",
    "            if lion.isMale == True:\n",
    "                prideMales.append(lion)\n",
    "                \n",
    "        prideMales = sorted(prideMales, key=lambda lion: lion.getBestVisitedPositionScore()[0], reverse=False)\n",
    "\n",
    "        while len(prideMales)>maxMalePrideNo:\n",
    "            temp_l = prideMales[-1]\n",
    "            del prideMales[-1]\n",
    "            newlyGenNomads = np. append(newlyGenNomads,temp_l)\n",
    "            \n",
    "        remainingPrideLions = np.concatenate((prideFemales, prideMales))\n",
    "        pride.lionArray = remainingPrideLions\n",
    "        \n",
    "        nomadLionsArray = np.append(nomadLionsArray, newlyGenNomads)                    \n",
    "    return prideArray, nomadLionsArray"
   ]
  },
  {
   "cell_type": "code",
   "execution_count": 11,
   "metadata": {},
   "outputs": [],
   "source": [
    "def GET_CURRENT_BEST(prideArr, NomadLionArr):\n",
    "    scores = np.array([])\n",
    "    for pride in prideArr:\n",
    "        for lion in pride.lionArray:\n",
    "            scores = np.append(scores, lion.getBestVisitedPositionScore())\n",
    "\n",
    "    for lion in NomadLionArr:\n",
    "            scores = np.append(scores, lion.getBestVisitedPositionScore())\n",
    "\n",
    "    return np.min(scores)"
   ]
  },
  {
   "cell_type": "code",
   "execution_count": 12,
   "metadata": {},
   "outputs": [],
   "source": [
    "# mal_Nomads = []\n",
    "# fem_Nomads = []\n",
    "# for lion in nomadLionsArray:\n",
    "#     if lion.isMale != False:\n",
    "#         mal_Nomads.append(lion)\n",
    "        \n",
    "# for lion in nomadLionsArray:\n",
    "#     if lion.isMale != True:\n",
    "#         fem_Nomads.append(lion)\n",
    "        \n",
    "# mal_Nomads = sorted(maleNomads, key=lambda lion: lion.getCurrentPositionScore()[0], reverse=False)\n",
    "# fem_Nomads = sorted(femaleNomads, key=lambda lion: lion.getCurrentPositionScore()[0], reverse=False)\n",
    "\n",
    "#     maleNomads = [lion for lion in nomadLionsArray if lion.isMale == True]\n",
    "#     maleNomads = sorted(maleNomads, key=lambda lion: lion.getCurrentPositionScore()[0], reverse=False)\n",
    "\n",
    "#     femaleNomads = [lion for lion in nomadLionsArray if lion.isMale == False]\n",
    "#     femaleNomads = sorted(femaleNomads, key=lambda lion: lion.getCurrentPositionScore()[0], reverse=False)\n",
    "        "
   ]
  },
  {
   "cell_type": "code",
   "execution_count": 13,
   "metadata": {},
   "outputs": [],
   "source": [
    "def STEP6(prideArray, nomadLionsArray, nPop, sexRate, percentNomad, prideNo):\n",
    "    \n",
    "\n",
    "    # MAKING LIST OF MALE AND FEMALE LIONS AND SORTING THEM \n",
    "    mal_Nomads = []\n",
    "    fem_Nomads = []\n",
    "    for lion in nomadLionsArray:\n",
    "        if lion.isMale != False:\n",
    "            mal_Nomads.append(lion)\n",
    "\n",
    "    for lion in nomadLionsArray:\n",
    "        if lion.isMale != True:\n",
    "            fem_Nomads.append(lion)\n",
    "\n",
    "    mal_Nomads = sorted(mal_Nomads, key=lambda lion: lion.getCurrentPositionScore()[0], reverse=False)\n",
    "    fem_Nomads = sorted(fem_Nomads, key=lambda lion: lion.getCurrentPositionScore()[0], reverse=False)\n",
    "\n",
    "    \n",
    "    maxMaleNomadNo = sexRate\n",
    "    maxMaleNomadNo = maxMaleNomadNo * percentNomad\n",
    "    maxMaleNomadNo = maxMaleNomadNo * nPop\n",
    "    \n",
    "    maxFemaleNomadNo = (1 - sexRate)\n",
    "    maxFemaleNomadNo = maxFemaleNomadNo * percentNomad\n",
    "    maxFemaleNomadNo = maxFemaleNomadNo * nPop\n",
    "    \n",
    "    while len(mal_Nomads) > maxMaleNomadNo:\n",
    "        del mal_Nomads[-1]\n",
    "\n",
    "    while len(fem_Nomads) > maxFemaleNomadNo:\n",
    "        del fem_Nomads[-1]\n",
    "\n",
    "    remainingNomadLions = np.concatenate((fem_Nomads, mal_Nomads))\n",
    "    return prideArray, remainingNomadLions"
   ]
  },
  {
   "cell_type": "code",
   "execution_count": 14,
   "metadata": {},
   "outputs": [],
   "source": [
    "def updateBestScoreList(prideArray, nomadLionsArray):\n",
    "    for pride in prideArray:\n",
    "        for lion in pride.lionArray:\n",
    "            lion.bestScoreHistory.append(lion.getBestVisitedPositionScore())\n",
    "\n",
    "    for lion in nomadLionsArray:\n",
    "        lion.bestScoreHistory.append(lion.getBestVisitedPositionScore())\n",
    "\n",
    "    return prideArray, nomadLionsArray"
   ]
  },
  {
   "cell_type": "code",
   "execution_count": 15,
   "metadata": {},
   "outputs": [],
   "source": [
    "# THIS CLASS IS FOR REPRESENTEING THE PRIDE\n",
    "class Group:\n",
    "\n",
    "    def __init__(self):\n",
    "\n",
    "        self.lionArray = np.array([])\n",
    "        self.migratedFemaleNo = 0\n",
    "\n",
    "# THE LION CLASS IS USED TO KEEP THE INFORMATION OF EACH LION OF THE ENTIRE POPULATION \n",
    "class Lion:\n",
    "\n",
    "    def __init__(self):\n",
    "\n",
    "        self.isMale = None\n",
    "        self.evaluation = None\n",
    "        self.bestVisitedPosition = None\n",
    "        self.isMature = None\n",
    "        self.isNomad = None\n",
    "        self.x = None\n",
    "        self.huntingGroup = None\n",
    "        self.bestScoreHistory = [np.Infinity]\n",
    "        self.o = None\n",
    "\n",
    "    def getBestVisitedPositionScore(self):\n",
    "        return self.evaluation(self.bestVisitedPosition, self.o)\n",
    "\n",
    "    def getCurrentPositionScore(self):\n",
    "        return self.evaluation(self.x, self.o)"
   ]
  },
  {
   "cell_type": "code",
   "execution_count": 29,
   "metadata": {
    "scrolled": false
   },
   "outputs": [
    {
     "name": "stdout",
     "output_type": "stream",
     "text": [
      "IMPROVED SCORE: 2.61E+09\n",
      "IMPROVED SCORE: 2.21E+09\n",
      "Program Completion => 20.0% Time taken for this run is 0.05083155632019043 seconds\n",
      "IMPROVED SCORE: 2.97E+09\n",
      "IMPROVED SCORE: 2.71E+09\n",
      "Program Completion => 40.0% Time taken for this run is 0.054851531982421875 seconds\n",
      "IMPROVED SCORE: 2.39E+09\n",
      "Program Completion => 60.0% Time taken for this run is 0.051164865493774414 seconds\n",
      "IMPROVED SCORE: 1.43E+09\n",
      "IMPROVED SCORE: 1.35E+09\n",
      "Program Completion => 80.0% Time taken for this run is 0.04484295845031738 seconds\n",
      "IMPROVED SCORE: 1.92E+09\n",
      "IMPROVED SCORE: 1.77E+09\n",
      "IMPROVED SCORE: 1.51E+09\n",
      "Program Completion => 100.0% Time taken for this run is 0.043915510177612305 seconds\n"
     ]
    },
    {
     "data": {
      "image/png": "[encoded data removed]",
      "text/plain": [
       "<Figure size 864x576 with 1 Axes>"
      ]
     },
     "metadata": {
      "needs_background": "light"
     },
     "output_type": "display_data"
    },
    {
     "name": "stdout",
     "output_type": "stream",
     "text": [
      "Total time taken was 0.9485335350036621 seconds\n"
     ]
    }
   ],
   "source": [
    "#MAIN OF PROGRAM\n",
    "def main():\n",
    "    st=time.time() #noting the Start time of program\n",
    "    runs = 5\n",
    "    iterations = 5\n",
    "    currentBestCurves = np.zeros((runs, iterations))\n",
    "    globalBestCurves = np.zeros((runs, iterations + 1))\n",
    "\n",
    "    for run in range(runs):\n",
    "        globalBestCurves[run],  currentBestCurves[run] = LOA() \n",
    "        \n",
    "    et = time.time() #noting the End time of program\n",
    "    \n",
    "    xxx=[]\n",
    "    for row in currentBestCurves:\n",
    "        itr=0\n",
    "        avg=0\n",
    "\n",
    "        for col in row:\n",
    "            itr= itr + 1\n",
    "            avg= avg + col\n",
    "        avg=avg/itr\n",
    "        xxx.append(avg)\n",
    "    yyy=[]\n",
    "    for row in globalBestCurves:\n",
    "        itr=0\n",
    "        avg=0\n",
    "        for col in row:\n",
    "            itr= itr + 1\n",
    "            if itr==1:\n",
    "                continue\n",
    "            avg= avg + col\n",
    "        avg=avg/itr\n",
    "        yyy.append(avg)\n",
    "\n",
    "    # set width of bar\n",
    "    barWidth = 0.25\n",
    "    fig = plt.subplots(figsize =(12, 8))\n",
    "\n",
    "    # Set position of bar on X axis\n",
    "    br1 = np.arange(len(xxx))\n",
    "    br2 = [x + barWidth for x in br1]\n",
    "\n",
    "    # Make the plot\n",
    "    plt.bar(br1, xxx, color ='r', width = barWidth, edgecolor ='grey', label ='CurrnetBest')\n",
    "    plt.bar(br2, yyy, color ='g', width = barWidth, edgecolor ='grey', label ='GlobalBest')\n",
    "\n",
    "    # Adding Xticks\n",
    "    plt.title(\"Relation between global_best and current_best\") \n",
    "\n",
    "    plt.legend()\n",
    "    plt.show()\n",
    "    print(f\"Total time taken was {et-st} seconds\")\n",
    "\n",
    "E_t = []\n",
    "counter = []\n",
    "ttt=1\n",
    "def LOA():\n",
    "    # HERE YOU CAN SET THE PARAMETERS FOR THE WHOLE ALGORITHM\n",
    "    pride_num = 4             # NUMBER OF PRIDES\n",
    "    nomad_percentage = 0.2      # NOMANDS PERCENTAGE OUT OF TOTAL POPULATION\n",
    "    roaming_percentage = 0.2\n",
    "    mutation_prob = 0.2\n",
    "    sex_rate = 0.8           # MEANING THIS WILL BE FEMALES AND REMAINING MALES\n",
    "    mating_prob = 0.3\n",
    "    migrate_rate = 0.4\n",
    "    n_population = 50               #POPULATION SIZE\n",
    "    UPPER_LIMIT = 100\n",
    "    LOWER_LIMIT = -100\n",
    "    dimensions = 30\n",
    "    evaluation = SHC        #THIS IS THE F_1 SCORE ACCORDING TO THE CEF GUIDELINES\n",
    "    #o sets the random rotation of the function as 80% are pride's lion so their are cuvered is also (-80 to 80)\n",
    "    o = np.random.uniform(-80, 80, (1, dimensions))\n",
    "    maximum_iterations = 5   #THIS IS BASCIALLY THE STOPING CONDITION OR RUNING ITERAITIONS\n",
    "    global ttt\n",
    "    \n",
    "    #STEP 1 & 2\n",
    "    prideArr, NomadLionArr = GENERATE_GROUPS(n_population, sex_rate, pride_num, nomad_percentage, UPPER_LIMIT, LOWER_LIMIT, dimensions, evaluation, o)\n",
    "    global_best = [np.inf] #write now best is infinity\n",
    "    track = []\n",
    "\n",
    "    \n",
    "    for it in range(maximum_iterations):\n",
    "         \n",
    "        start_time = time.time()\n",
    "        prideArr, NomadLionArr = updateBestScoreList(prideArr, NomadLionArr)\n",
    "\n",
    "        #STEP 3 & 4\n",
    "        prideArr = HUNTING(prideArr, UPPER_LIMIT, LOWER_LIMIT)\n",
    "        prideArr = move_to_safety(prideArr, UPPER_LIMIT, LOWER_LIMIT, dimensions)\n",
    "        prideArr, NomadLionArr = lionsRoam(prideArr, NomadLionArr, roaming_percentage, UPPER_LIMIT, LOWER_LIMIT, dimensions)\n",
    "        prideArr, NomadLionArr = lionsMating(prideArr, NomadLionArr, mating_prob, mutation_prob, LOWER_LIMIT, UPPER_LIMIT, o)\n",
    "        prideArr, NomadLionArr = lionsAttackDefense(prideArr, NomadLionArr, sex_rate, n_population, nomad_percentage, pride_num)\n",
    "\n",
    "        #STEP 5\n",
    "        prideArr, NomadLionArr = MIGRATE_FEMALE_FROM_PRIDE(prideArr, NomadLionArr, migrate_rate, sex_rate, n_population, pride_num, nomad_percentage)\n",
    "\n",
    "        #STEP 6\n",
    "        prideArr, NomadLionArr = STEP6(prideArr, NomadLionArr, n_population, sex_rate, nomad_percentage, pride_num)\n",
    "\n",
    "        #BEST SCORE OBTAINED SO FAR\n",
    "        current_best = GET_CURRENT_BEST(prideArr, NomadLionArr)\n",
    "        track.append(current_best)\n",
    "        \n",
    "        if current_best < global_best[-1]:\n",
    "            global_best.append(current_best)\n",
    "            print(\"IMPROVED SCORE: %.2E\" % current_best)\n",
    "        else:\n",
    "            global_best.append(global_best[-1])\n",
    "        \n",
    "        if it == maximum_iterations-1:\n",
    "            elapsed_time = (time.time() - start_time)\n",
    "            fPer = (ttt/maximum_iterations)*100\n",
    "            ttt= ttt+1\n",
    "            print(f\"Program Completion => {fPer}% Time taken for this run is {elapsed_time} seconds\")\n",
    "            E_t.append(elapsed_time) \n",
    "            #counter.append(it)\n",
    "    return np.reshape(np.array(global_best), (len(global_best),)), np.reshape(np.array(track), (len(track)))\n",
    "\n",
    "if __name__ == \"__main__\":\n",
    "    main()"
   ]
  },
  {
   "cell_type": "code",
   "execution_count": 17,
   "metadata": {},
   "outputs": [],
   "source": [
    "x = len(E_t)\n",
    "for i in range(x):\n",
    "    counter.append(i+1)"
   ]
  },
  {
   "cell_type": "markdown",
   "metadata": {},
   "source": [
    "# 3 Small Inputs"
   ]
  },
  {
   "cell_type": "code",
   "execution_count": 18,
   "metadata": {},
   "outputs": [
    {
     "data": {
      "text/plain": [
       "Text(0.5, 0, 'Iterations')"
      ]
     },
     "execution_count": 18,
     "metadata": {},
     "output_type": "execute_result"
    },
    {
     "data": {
      "image/png": "[encoded data removed]",
      "text/plain": [
       "<Figure size 432x288 with 1 Axes>"
      ]
     },
     "metadata": {
      "needs_background": "light"
     },
     "output_type": "display_data"
    }
   ],
   "source": [
    "#5 RUNS AND ITERATIONS\n",
    "plt.plot(counter, E_t ,color='green', markerfacecolor='blue', markersize=15, marker='x')\n",
    "plt.ylabel(\"Time Elapsed\")\n",
    "plt.xlabel(\"Iterations\")"
   ]
  },
  {
   "cell_type": "code",
   "execution_count": 19,
   "metadata": {},
   "outputs": [
    {
     "data": {
      "text/plain": [
       "Text(0.5, 0, 'Iterations')"
      ]
     },
     "execution_count": 19,
     "metadata": {},
     "output_type": "execute_result"
    },
    {
     "data": {
      "image/png": "[encoded data removed]",
      "text/plain": [
       "<Figure size 432x288 with 1 Axes>"
      ]
     },
     "metadata": {
      "needs_background": "light"
     },
     "output_type": "display_data"
    }
   ],
   "source": [
    "#6 RUNS AND ITERATIONS\n",
    "plt.plot(counter, E_t ,color='green', markerfacecolor='blue', markersize=15, marker='x')\n",
    "plt.ylabel(\"Time Elapsed\")\n",
    "plt.xlabel(\"Iterations\")"
   ]
  },
  {
   "cell_type": "code",
   "execution_count": 20,
   "metadata": {},
   "outputs": [
    {
     "data": {
      "text/plain": [
       "Text(0.5, 0, 'Iterations')"
      ]
     },
     "execution_count": 20,
     "metadata": {},
     "output_type": "execute_result"
    },
    {
     "data": {
      "image/png": "[encoded data removed]",
      "text/plain": [
       "<Figure size 432x288 with 1 Axes>"
      ]
     },
     "metadata": {
      "needs_background": "light"
     },
     "output_type": "display_data"
    }
   ],
   "source": [
    "#7 RUNS AND ITERATIONS\n",
    "plt.plot(counter, E_t ,color='green', markerfacecolor='blue', markersize=15, marker='x')\n",
    "plt.ylabel(\"Time Elapsed\")\n",
    "plt.xlabel(\"Iterations\")"
   ]
  },
  {
   "cell_type": "markdown",
   "metadata": {},
   "source": [
    "# 5 Large Inputs"
   ]
  },
  {
   "cell_type": "code",
   "execution_count": 21,
   "metadata": {},
   "outputs": [
    {
     "data": {
      "text/plain": [
       "Text(0.5, 0, 'Iterations')"
      ]
     },
     "execution_count": 21,
     "metadata": {},
     "output_type": "execute_result"
    },
    {
     "data": {
      "image/png": "[encoded data removed]",
      "text/plain": [
       "<Figure size 432x288 with 1 Axes>"
      ]
     },
     "metadata": {
      "needs_background": "light"
     },
     "output_type": "display_data"
    }
   ],
   "source": [
    "#10 RUNS AND ITERATIONS\n",
    "plt.plot(counter, E_t ,color='green', markerfacecolor='blue', markersize=15, marker='x')\n",
    "plt.ylabel(\"Time Elapsed\")\n",
    "plt.xlabel(\"Iterations\")"
   ]
  },
  {
   "cell_type": "code",
   "execution_count": 22,
   "metadata": {},
   "outputs": [
    {
     "data": {
      "text/plain": [
       "Text(0.5, 0, 'Iterations')"
      ]
     },
     "execution_count": 22,
     "metadata": {},
     "output_type": "execute_result"
    },
    {
     "data": {
      "image/png": "[encoded data removed]",
      "text/plain": [
       "<Figure size 432x288 with 1 Axes>"
      ]
     },
     "metadata": {
      "needs_background": "light"
     },
     "output_type": "display_data"
    }
   ],
   "source": [
    "#12 RUNS AND ITERATIONS\n",
    "plt.plot(counter, E_t ,color='green', markerfacecolor='blue', markersize=15, marker='x')\n",
    "plt.ylabel(\"Time Elapsed\")\n",
    "plt.xlabel(\"Iterations\")"
   ]
  },
  {
   "cell_type": "code",
   "execution_count": 23,
   "metadata": {},
   "outputs": [
    {
     "data": {
      "text/plain": [
       "Text(0.5, 0, 'Iterations')"
      ]
     },
     "execution_count": 23,
     "metadata": {},
     "output_type": "execute_result"
    },
    {
     "data": {
      "image/png": "[encoded data removed]",
      "text/plain": [
       "<Figure size 432x288 with 1 Axes>"
      ]
     },
     "metadata": {
      "needs_background": "light"
     },
     "output_type": "display_data"
    }
   ],
   "source": [
    "#15 RUNS AND ITERATIONS\n",
    "plt.plot(counter, E_t ,color='green', markerfacecolor='blue', markersize=15, marker='x')\n",
    "plt.ylabel(\"Time Elapsed\")\n",
    "plt.xlabel(\"Iterations\")"
   ]
  },
  {
   "cell_type": "code",
   "execution_count": 24,
   "metadata": {},
   "outputs": [
    {
     "data": {
      "text/plain": [
       "Text(0.5, 0, 'Iterations')"
      ]
     },
     "execution_count": 24,
     "metadata": {},
     "output_type": "execute_result"
    },
    {
     "data": {
      "image/png": "[encoded data removed]",
      "text/plain": [
       "<Figure size 432x288 with 1 Axes>"
      ]
     },
     "metadata": {
      "needs_background": "light"
     },
     "output_type": "display_data"
    }
   ],
   "source": [
    "#17 RUNS AND ITERATIONS\n",
    "plt.plot(counter, E_t ,color='green', markerfacecolor='blue', markersize=15, marker='x')\n",
    "plt.ylabel(\"Time Elapsed\")\n",
    "plt.xlabel(\"Iterations\")"
   ]
  },
  {
   "cell_type": "code",
   "execution_count": 25,
   "metadata": {},
   "outputs": [
    {
     "data": {
      "text/plain": [
       "Text(0.5, 0, 'Iterations')"
      ]
     },
     "execution_count": 25,
     "metadata": {},
     "output_type": "execute_result"
    },
    {
     "data": {
      "image/png": "[encoded data removed]",
      "text/plain": [
       "<Figure size 432x288 with 1 Axes>"
      ]
     },
     "metadata": {
      "needs_background": "light"
     },
     "output_type": "display_data"
    }
   ],
   "source": [
    "#20 RUNS AND ITERATIONS\n",
    "plt.plot(counter, E_t ,color='green', markerfacecolor='blue', markersize=15, marker='x')\n",
    "plt.ylabel(\"Time Elapsed\")\n",
    "plt.xlabel(\"Iterations\")"
   ]
  },
  {
   "cell_type": "code",
   "execution_count": null,
   "metadata": {},
   "outputs": [],
   "source": []
  },
  {
   "cell_type": "code",
   "execution_count": null,
   "metadata": {},
   "outputs": [],
   "source": []
  },
  {
   "cell_type": "code",
   "execution_count": null,
   "metadata": {},
   "outputs": [],
   "source": []
  }
 ],
 "metadata": {
  "kernelspec": {
   "display_name": "Python 3",
   "language": "python",
   "name": "python3"
  },
  "language_info": {
   "codemirror_mode": {
    "name": "ipython",
    "version": 3
   },
   "file_extension": ".py",
   "mimetype": "text/x-python",
   "name": "python",
   "nbconvert_exporter": "python",
   "pygments_lexer": "ipython3",
   "version": "3.8.8"
  }
 },
 "nbformat": 4,
 "nbformat_minor": 4
}
